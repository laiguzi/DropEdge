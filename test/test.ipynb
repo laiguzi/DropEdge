{
 "cells": [
  {
   "cell_type": "code",
   "execution_count": 48,
   "metadata": {},
   "outputs": [
    {
     "name": "stdout",
     "output_type": "stream",
     "text": [
      "[[3]\n",
      " [3]\n",
      " [5]\n",
      " ...\n",
      " [1]\n",
      " [4]\n",
      " [4]]\n"
     ]
    }
   ],
   "source": [
    "import pickle as pkl\n",
    "import os\n",
    "import numpy as np\n",
    "import networkx as nx\n",
    "\n",
    "data_path = '/home/laixin/code/DropEdge/data'\n",
    "data_file = os.path.join(data_path, 'ind.cora.graph')\n",
    "data =[]\n",
    "with open(data_file, 'rb') as f:\n",
    "    data.append(pkl.load(f, encoding='latin1'))\n",
    "\n",
    "graph = data[0]\n",
    "G = nx.from_dict_of_lists(graph)\n",
    "adj = nx.adjacency_matrix(G)\n",
    "#print(adj.shape)\n",
    "\n",
    "degree = np.sum(adj, axis=1)\n",
    "print(degree)\n",
    "\n",
    "# index_file = os.path.join(data_path, 'ind.cora.test.index')\n",
    "# index = []\n",
    "# for line in open(index_file):\n",
    "#     index.append(int(line.strip()))\n",
    "# print(index)\n",
    "\n"
   ]
  },
  {
   "cell_type": "code",
   "execution_count": 49,
   "metadata": {},
   "outputs": [],
   "source": [
    "from torchsummary import summary"
   ]
  },
  {
   "cell_type": "code",
   "execution_count": null,
   "metadata": {},
   "outputs": [],
   "source": []
  }
 ],
 "metadata": {
  "interpreter": {
   "hash": "25cd8ee5e136347663dbf0289550da53b71de82ec254eb2f999c774c4bb2b17a"
  },
  "kernelspec": {
   "display_name": "Python 3.6.2 ('curv')",
   "language": "python",
   "name": "python3"
  },
  "language_info": {
   "codemirror_mode": {
    "name": "ipython",
    "version": 3
   },
   "file_extension": ".py",
   "mimetype": "text/x-python",
   "name": "python",
   "nbconvert_exporter": "python",
   "pygments_lexer": "ipython3",
   "version": "3.6.13"
  },
  "orig_nbformat": 4
 },
 "nbformat": 4,
 "nbformat_minor": 2
}
